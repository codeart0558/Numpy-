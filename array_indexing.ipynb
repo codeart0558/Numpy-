{
 "cells": [
  {
   "cell_type": "code",
   "execution_count": 3,
   "id": "f370288f-0965-4182-b2a3-6b7df67117dd",
   "metadata": {},
   "outputs": [
    {
     "name": "stdout",
     "output_type": "stream",
     "text": [
      "1\n",
      "2\n",
      "3\n",
      "4\n"
     ]
    },
    {
     "ename": "IndexError",
     "evalue": "index 4 is out of bounds for axis 0 with size 4",
     "output_type": "error",
     "traceback": [
      "\u001b[1;31m---------------------------------------------------------------------------\u001b[0m",
      "\u001b[1;31mIndexError\u001b[0m                                Traceback (most recent call last)",
      "Cell \u001b[1;32mIn[3], line 10\u001b[0m\n\u001b[0;32m      8\u001b[0m \u001b[38;5;28mprint\u001b[39m(arr[\u001b[38;5;241m2\u001b[39m])\n\u001b[0;32m      9\u001b[0m \u001b[38;5;28mprint\u001b[39m(arr[\u001b[38;5;241m3\u001b[39m])\n\u001b[1;32m---> 10\u001b[0m \u001b[38;5;28mprint\u001b[39m(arr[\u001b[38;5;241m4\u001b[39m])\n",
      "\u001b[1;31mIndexError\u001b[0m: index 4 is out of bounds for axis 0 with size 4"
     ]
    }
   ],
   "source": [
    "# NumPy Array Indexing\n",
    "# Array indexing is the same as accessing an array element.\n",
    "# You can access an array element by referring to its index number.\n",
    "\n",
    "# Access 1-D Arrays\n",
    "import numpy as np\n",
    "arr = np.array([1, 2, 3, 4])\n",
    "print(arr[0])\n",
    "print(arr[1])\n",
    "print(arr[2])\n",
    "print(arr[3])\n",
    "print(arr[4])"
   ]
  },
  {
   "cell_type": "code",
   "execution_count": 4,
   "id": "e1f1831e-f210-47e3-8368-2e1da003c382",
   "metadata": {},
   "outputs": [
    {
     "name": "stdout",
     "output_type": "stream",
     "text": [
      "7\n"
     ]
    }
   ],
   "source": [
    "arr = np.array([1, 2, 3, 4])\n",
    "print(arr[2] + arr[3])"
   ]
  },
  {
   "cell_type": "code",
   "execution_count": 9,
   "id": "135afe36-aef4-44b9-b32b-48496d9602d3",
   "metadata": {},
   "outputs": [
    {
     "name": "stdout",
     "output_type": "stream",
     "text": [
      "[[1 2 3]\n",
      " [4 5 6]]\n",
      "3\n",
      "6\n",
      "5\n",
      "3\n",
      "1\n"
     ]
    }
   ],
   "source": [
    "# Access 2-D Arrays\n",
    "arr = np.array([[1,2,3],[4,5,6]])\n",
    "print(arr)\n",
    "print(arr[0,2])\n",
    "print(arr[1,2])\n",
    "print(arr[1,-2])\n",
    "print(arr[0,-1])\n",
    "print(arr[0,-3])"
   ]
  },
  {
   "cell_type": "code",
   "execution_count": 43,
   "id": "6afb878a-a4ff-4a85-a26a-7c3b015a7f1a",
   "metadata": {},
   "outputs": [
    {
     "name": "stdout",
     "output_type": "stream",
     "text": [
      "4\n",
      "[[[[ 1  2  3]\n",
      "   [ 4  5  6]]\n",
      "\n",
      "  [[ 0  0  0]\n",
      "   [ 0  0  0]]\n",
      "\n",
      "  [[11 12 13]\n",
      "   [14 15 16]]]]\n",
      "1\n",
      "6\n",
      "16\n"
     ]
    }
   ],
   "source": [
    "# Access 4 Arrays\n",
    "arr = np.array([[[[1,2,3],[4,5,6]],[[0,0,0],[0,0,0]],[[11,12,13],[14,15,16]]]])\n",
    "print(arr.ndim)\n",
    "print(arr)\n",
    "print(arr[0,0,0,0])\n",
    "print(arr[0,0,1,-1])\n",
    "print(arr[0,2,1,-1])\n"
   ]
  },
  {
   "cell_type": "code",
   "execution_count": null,
   "id": "497febcd-f8d9-4193-9ca5-8af4c8d90d70",
   "metadata": {},
   "outputs": [],
   "source": []
  }
 ],
 "metadata": {
  "kernelspec": {
   "display_name": "Python [conda env:base] *",
   "language": "python",
   "name": "conda-base-py"
  },
  "language_info": {
   "codemirror_mode": {
    "name": "ipython",
    "version": 3
   },
   "file_extension": ".py",
   "mimetype": "text/x-python",
   "name": "python",
   "nbconvert_exporter": "python",
   "pygments_lexer": "ipython3",
   "version": "3.12.7"
  }
 },
 "nbformat": 4,
 "nbformat_minor": 5
}
