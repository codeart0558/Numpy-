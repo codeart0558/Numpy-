{
 "cells": [
  {
   "cell_type": "code",
   "execution_count": null,
   "id": "eb17b74f-d7cb-4caf-9fdf-2dd9748d8218",
   "metadata": {},
   "outputs": [],
   "source": [
    "random number in numpy :\n",
    "    Random number does NOT mean a different number every time.\n",
    "    Random means something that can not be predicted logically."
   ]
  },
  {
   "cell_type": "code",
   "execution_count": 13,
   "id": "23d47c2e-ce42-4adb-92f3-dc06dd55246a",
   "metadata": {},
   "outputs": [
    {
     "name": "stdout",
     "output_type": "stream",
     "text": [
      "43\n"
     ]
    }
   ],
   "source": [
    "import numpy as np\n",
    "from numpy import random\n",
    "# for int\n",
    "randomnumber = random.randint(100)\n",
    "print(randomnumber)"
   ]
  },
  {
   "cell_type": "code",
   "execution_count": 34,
   "id": "8beeb7cf-ae8c-49df-811a-1fe4fc928391",
   "metadata": {},
   "outputs": [
    {
     "name": "stdout",
     "output_type": "stream",
     "text": [
      "0.9268081086810063\n"
     ]
    }
   ],
   "source": [
    "# for float : if you not provide number in the rand() its take value between 0 to 1.\n",
    "randomnumber = random.rand()\n",
    "print(randomnumber)"
   ]
  },
  {
   "cell_type": "code",
   "execution_count": 40,
   "id": "d9f233fd-b781-4f54-b6e7-8a4cc4e2db32",
   "metadata": {},
   "outputs": [
    {
     "name": "stdout",
     "output_type": "stream",
     "text": [
      "[34 72 62 73 75]\n"
     ]
    }
   ],
   "source": [
    "# generate random Array\n",
    "# generate a 1-D array containing 5 random list\n",
    "arr = random.randint(100,size=(5))\n",
    "print(arr)"
   ]
  },
  {
   "cell_type": "code",
   "execution_count": 46,
   "id": "64e90b4d-81cc-4143-81ef-f5599b65522a",
   "metadata": {},
   "outputs": [
    {
     "name": "stdout",
     "output_type": "stream",
     "text": [
      "[[84 44 10 92 88]\n",
      " [86 16 17 46 96]\n",
      " [74  4 11 20 24]]\n",
      "[[0.62762924 0.77055503 0.12262646 0.07027431 0.79832416]\n",
      " [0.64969813 0.87813606 0.67189048 0.46125072 0.21180186]\n",
      " [0.06271433 0.43178858 0.89886915 0.27664109 0.92849359]]\n"
     ]
    }
   ],
   "source": [
    "# for int\n",
    "# Generate a 2-D array with 3 rows, each row containing 5 random integers from 0 to 100\n",
    "arr = random.randint(100,size=(3,5))\n",
    "print(arr)\n",
    "\n",
    "# for float\n",
    "# Generate a 2-D array with 3 rows, each row containing 5 random Float from 0 to 1\n",
    "arr = random.rand(3,5)\n",
    "print(arr)"
   ]
  },
  {
   "cell_type": "code",
   "execution_count": 64,
   "id": "7bece12c-998d-4808-a082-44ee4d1b3d25",
   "metadata": {},
   "outputs": [
    {
     "name": "stdout",
     "output_type": "stream",
     "text": [
      "8\n"
     ]
    }
   ],
   "source": [
    "# generate random number from an array using choice()\n",
    "# The choice() method takes an array as a parameter and randomly returns one of the values.\n",
    "# array pass in choice as a parameter\n",
    "arr_picked = random.choice([8,4,5,6,7,0])\n",
    "print(arr_picked)\n"
   ]
  },
  {
   "cell_type": "code",
   "execution_count": 70,
   "id": "3711c71a-54e3-4697-8703-63d64c6d1b12",
   "metadata": {},
   "outputs": [
    {
     "name": "stdout",
     "output_type": "stream",
     "text": [
      "[[8 6 0 8 4]\n",
      " [4 4 6 6 6]\n",
      " [7 8 4 8 8]]\n"
     ]
    }
   ],
   "source": [
    "# also we can diefind size : \n",
    "# generate random number from an 2-D array\n",
    "arr_picked = random.choice([8,4,5,6,7,0],size=(3,5))\n",
    "print(arr_picked)\n"
   ]
  },
  {
   "cell_type": "code",
   "execution_count": null,
   "id": "c12ef6b9-fa40-47e0-9651-df64c585f54a",
   "metadata": {},
   "outputs": [],
   "source": [
    "\n"
   ]
  }
 ],
 "metadata": {
  "kernelspec": {
   "display_name": "Python 3 (ipykernel)",
   "language": "python",
   "name": "python3"
  },
  "language_info": {
   "codemirror_mode": {
    "name": "ipython",
    "version": 3
   },
   "file_extension": ".py",
   "mimetype": "text/x-python",
   "name": "python",
   "nbconvert_exporter": "python",
   "pygments_lexer": "ipython3",
   "version": "3.11.8"
  }
 },
 "nbformat": 4,
 "nbformat_minor": 5
}
