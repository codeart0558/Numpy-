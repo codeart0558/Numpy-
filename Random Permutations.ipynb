{
 "cells": [
  {
   "cell_type": "code",
   "execution_count": null,
   "id": "6f462cc1-773a-4040-a7c6-1aa49585a069",
   "metadata": {},
   "outputs": [],
   "source": [
    "# # Random Permutations : means arrangment of elements\n",
    "# numpy random method provides two method : 1) shufle() by default method of random\n",
    "#                                           2) permutation()"
   ]
  },
  {
   "cell_type": "code",
   "execution_count": 6,
   "id": "0a25922f-ec44-43fa-8667-1f70dabdb301",
   "metadata": {},
   "outputs": [
    {
     "name": "stdout",
     "output_type": "stream",
     "text": [
      "[5 2 3 4 1]\n"
     ]
    }
   ],
   "source": [
    "# randomly shuffle elements for the below array:\n",
    "import numpy as np\n",
    "from numpy import random\n",
    "arr = np.array([1,2,3,4,5])\n",
    "random.shuffle(arr)\n",
    "print(arr)"
   ]
  },
  {
   "cell_type": "code",
   "execution_count": null,
   "id": "a2ebeccd-32f0-40ea-93d5-f389c5d2598c",
   "metadata": {},
   "outputs": [],
   "source": [
    "# shuffle : reflect on original array"
   ]
  },
  {
   "cell_type": "code",
   "execution_count": 10,
   "id": "75a941d1-22f9-40f0-85db-5dea32d2bfc9",
   "metadata": {},
   "outputs": [
    {
     "name": "stdout",
     "output_type": "stream",
     "text": [
      "original array [1 2 3 4 5]\n",
      "permutation of array  [4 5 3 2 1]\n"
     ]
    }
   ],
   "source": [
    "# 2) permutation\n",
    "arr = np.array([1,2,3,4,5])\n",
    "permut = random.permutation(arr)\n",
    "print(\"original array\" , arr)\n",
    "print(\"permutation of array \" ,permut)\n",
    "\n"
   ]
  },
  {
   "cell_type": "code",
   "execution_count": null,
   "id": "29ac4d20-92b1-4e26-8175-3286aa730f73",
   "metadata": {},
   "outputs": [],
   "source": [
    "# permutation : its not reflect on original array"
   ]
  }
 ],
 "metadata": {
  "kernelspec": {
   "display_name": "Python 3 (ipykernel)",
   "language": "python",
   "name": "python3"
  },
  "language_info": {
   "codemirror_mode": {
    "name": "ipython",
    "version": 3
   },
   "file_extension": ".py",
   "mimetype": "text/x-python",
   "name": "python",
   "nbconvert_exporter": "python",
   "pygments_lexer": "ipython3",
   "version": "3.11.8"
  }
 },
 "nbformat": 4,
 "nbformat_minor": 5
}
