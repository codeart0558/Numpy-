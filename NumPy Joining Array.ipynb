{
 "cells": [
  {
   "cell_type": "code",
   "execution_count": null,
   "id": "e456841e-926d-49a2-9792-10fb4c78cff9",
   "metadata": {},
   "outputs": [],
   "source": [
    "# NumPy Joining Array\n",
    "# Joining means putting contents of two or more arrays in a single array.\n",
    "# We pass a sequence of arrays that we want to join to the concatenate() function, \n",
    "# along with the axis. If axis is not explicitly passed, it is taken as 0."
   ]
  },
  {
   "cell_type": "code",
   "execution_count": 1,
   "id": "193301a2-0627-485e-af9d-96cab596f159",
   "metadata": {},
   "outputs": [
    {
     "name": "stdout",
     "output_type": "stream",
     "text": [
      "[1 2 3 4 5 6]\n"
     ]
    }
   ],
   "source": [
    "import numpy as np\n",
    "\n",
    "arr1 = np.array([1, 2, 3])\n",
    "\n",
    "arr2 = np.array([4, 5, 6])\n",
    "\n",
    "arr = np.concatenate((arr1, arr2))\n",
    "\n",
    "print(arr)\n"
   ]
  },
  {
   "cell_type": "code",
   "execution_count": 12,
   "id": "98e6a435-7ee5-4c5d-9f5d-bccef982b1ab",
   "metadata": {},
   "outputs": [
    {
     "name": "stdout",
     "output_type": "stream",
     "text": [
      "[[1 2 3]\n",
      " [4 5 6]] array one\n",
      "\n",
      "\n",
      "[[ 11  12  31]\n",
      " [141  15  16]] array two\n",
      "\n",
      "\n",
      "[[  1   2   3  11  12  31]\n",
      " [  4   5   6 141  15  16]]\n"
     ]
    }
   ],
   "source": [
    "arr = np.array([[1,2,3],[4,5,6]])\n",
    "arr1 = np.array([[11,12,31],[141,15,16]])\n",
    "print(arr ,\"array one\")\n",
    "print(\"\\n\")\n",
    "print(arr1,\"array two\")\n",
    "print(\"\\n\")\n",
    "concate = np.concatenate((arr,arr1),axis=1)\n",
    "print(concate)"
   ]
  },
  {
   "cell_type": "code",
   "execution_count": 13,
   "id": "97f96311-e711-49f4-af25-c15524e4f354",
   "metadata": {},
   "outputs": [
    {
     "name": "stdout",
     "output_type": "stream",
     "text": [
      "[[1 4]\n",
      " [2 5]\n",
      " [3 6]]\n"
     ]
    }
   ],
   "source": [
    "# Joining Arrays Using Stack Functions\n",
    "arr1 = np.array([1, 2, 3])\n",
    "\n",
    "arr2 = np.array([4, 5, 6])\n",
    "\n",
    "arr = np.stack((arr1, arr2), axis=1)\n",
    "\n",
    "print(arr)"
   ]
  },
  {
   "cell_type": "code",
   "execution_count": null,
   "id": "c7ede4fa-2804-409f-af65-7e36c08b09e5",
   "metadata": {},
   "outputs": [],
   "source": [
    "| Feature            | `np.stack`                            | `np.concatenate`                           |\n",
    "| ------------------ | ------------------------------------- | ------------------------------------------ |\n",
    "| **Purpose**        | Combines arrays **along a new axis**  | Combines arrays **along an existing axis** |\n",
    "| **New axis**       | Yes, always adds a new dimension      | No, uses existing dimensions               |\n",
    "| **Shape change**   | Dimension of array **increases by 1** | Dimension **stays the same**               |\n",
    "| **Axis parameter** | `axis` → index of the **new axis**    | `axis` → axis along which to join          |\n"
   ]
  },
  {
   "cell_type": "code",
   "execution_count": 17,
   "id": "6b8bc298-4c77-4eb6-ac3b-4eb1d773a325",
   "metadata": {},
   "outputs": [
    {
     "name": "stdout",
     "output_type": "stream",
     "text": [
      "[1 2 3 4 5 6]\n",
      "[[1 2 3]\n",
      " [4 5 6]]\n"
     ]
    }
   ],
   "source": [
    "# Stacking Along Rows\n",
    "# NumPy provides a helper function: hstack() to stack along rows.\n",
    "\n",
    "arr1 = np.array([1, 2, 3])\n",
    "\n",
    "arr2 = np.array([4, 5, 6])\n",
    "\n",
    "arr = np.hstack((arr1, arr2))\n",
    "\n",
    "print(arr)\n",
    "\n",
    "# NumPy provides a helper function: vstack()  to stack along columns.\n",
    "\n",
    "arr1 = np.array([1, 2, 3])\n",
    "\n",
    "arr2 = np.array([4, 5, 6])\n",
    "\n",
    "arr = np.vstack((arr1, arr2))\n",
    "\n",
    "print(arr)"
   ]
  },
  {
   "cell_type": "code",
   "execution_count": null,
   "id": "75b62abf-1fdf-4cca-9d09-3258319fc0ca",
   "metadata": {},
   "outputs": [],
   "source": [
    "# NumPy provides a helper function: dstack() to stack along height, which is the same as depth."
   ]
  }
 ],
 "metadata": {
  "kernelspec": {
   "display_name": "Python 3 (ipykernel)",
   "language": "python",
   "name": "python3"
  },
  "language_info": {
   "codemirror_mode": {
    "name": "ipython",
    "version": 3
   },
   "file_extension": ".py",
   "mimetype": "text/x-python",
   "name": "python",
   "nbconvert_exporter": "python",
   "pygments_lexer": "ipython3",
   "version": "3.11.8"
  }
 },
 "nbformat": 4,
 "nbformat_minor": 5
}
