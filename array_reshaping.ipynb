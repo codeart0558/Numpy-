{
 "cells": [
  {
   "cell_type": "code",
   "execution_count": null,
   "id": "a459553f-9cf5-464c-8ebe-856c25946829",
   "metadata": {},
   "outputs": [],
   "source": [
    "# Reshaping arrays:--------\n",
    "# Reshaping means changing the shape (rows × columns) of an array without changing its data.\n",
    "# Reshaping means changing the shape of an array.\n",
    "# The shape of an array is the number of elements in each dimension.\n",
    "# By reshaping we can add or remove dimensions or change number of elements in each dimension."
   ]
  },
  {
   "cell_type": "code",
   "execution_count": 1,
   "id": "9db66e92-2414-4cdf-955f-80463555e836",
   "metadata": {},
   "outputs": [
    {
     "name": "stdout",
     "output_type": "stream",
     "text": [
      "Original Array:\n",
      "[1 2 3 4 5 6]\n",
      "\n",
      "Reshaped Array (2x3):\n",
      "[[1 2 3]\n",
      " [4 5 6]]\n"
     ]
    }
   ],
   "source": [
    "import numpy as np\n",
    "\n",
    "# Original 1D array\n",
    "arr = np.array([1, 2, 3, 4, 5, 6])\n",
    "\n",
    "# Reshape into 2D array (2 rows, 3 columns)\n",
    "reshaped_arr = arr.reshape(2, 3)\n",
    "\n",
    "print(\"Original Array:\")\n",
    "print(arr)\n",
    "\n",
    "print(\"\\nReshaped Array (2x3):\")\n",
    "print(reshaped_arr)\n"
   ]
  },
  {
   "cell_type": "code",
   "execution_count": 3,
   "id": "6cfedbdb-ae5d-4620-aff6-e66f67448f08",
   "metadata": {},
   "outputs": [
    {
     "name": "stdout",
     "output_type": "stream",
     "text": [
      "Original Array:\n",
      "[1 2 3 4 5 6]\n",
      "\n",
      "Reshaped Array (2x3):\n",
      "[[[1 2 3]\n",
      "  [4 5 6]]]\n"
     ]
    }
   ],
   "source": [
    "# Original 1D array\n",
    "arr = np.array([1, 2, 3, 4, 5, 6])\n",
    "\n",
    "# Reshape into 3D array: 1 block, 2 rows, 3 columns\n",
    "reshaped_arr = arr.reshape(1 ,2, 3)\n",
    "\n",
    "print(\"Original Array:\")\n",
    "print(arr)\n",
    "\n",
    "print(\"\\nReshaped Array (2x3):\")\n",
    "print(reshaped_arr)\n"
   ]
  },
  {
   "cell_type": "code",
   "execution_count": 17,
   "id": "306520af-69ac-4b7e-ad95-d39fd3eaee39",
   "metadata": {},
   "outputs": [
    {
     "name": "stdout",
     "output_type": "stream",
     "text": [
      "Original Array:\n",
      "[1 2 3 4 5 6 7 8 9]\n",
      "\n",
      "Reshaped Array (2x3):\n",
      "[[[[1 2 3]\n",
      "   [4 5 6]\n",
      "   [7 8 9]]]]\n"
     ]
    }
   ],
   "source": [
    "# 1st dimension = 1 (first block)\n",
    "# 2nd dimension = 1 (second block inside first)\n",
    "# 3rd dimension = 2 (rows)\n",
    "# 4th dimension = 3 (columns)\n",
    "\n",
    "\n",
    "# Original 1D array\n",
    "arr = np.array([1, 2, 3, 4, 5, 6,7,8,9])\n",
    "\n",
    "# Reshape into 4D array: 1 block, 2 rows, 3 columns\n",
    "reshaped_arr = arr.reshape(1, 1, 3, 3)\n",
    "\n",
    "print(\"Original Array:\")\n",
    "print(arr)\n",
    "\n",
    "print(\"\\nReshaped Array (2x3):\")\n",
    "print(reshaped_arr)\n"
   ]
  },
  {
   "cell_type": "code",
   "execution_count": 27,
   "id": "67b71752-7c3c-4ec9-a317-94e277307a96",
   "metadata": {},
   "outputs": [
    {
     "name": "stdout",
     "output_type": "stream",
     "text": [
      "[[1 2 3 4]\n",
      " [5 6 7 8]] shape of the array\n",
      "[1 2 3 4 5 6 7 8] base : array original array\n",
      "2 dimension of x\n",
      "\n",
      "\n",
      "[1 2 3 4 5 6 7 8]\n",
      "1\n"
     ]
    }
   ],
   "source": [
    "\n",
    "arr = np.array([1, 2, 3, 4, 5, 6, 7, 8])\n",
    "x= arr.reshape(2,4)\n",
    "print(x,\"shape of the array\")\n",
    "print(x.base,\"base : array original array\")\n",
    "print(x.ndim,\"dimension of x\")\n",
    "print(\"\\n\")\n",
    "print(arr.reshape(2, 4).base)\n",
    "print(arr.ndim)\n"
   ]
  }
 ],
 "metadata": {
  "kernelspec": {
   "display_name": "Python 3 (ipykernel)",
   "language": "python",
   "name": "python3"
  },
  "language_info": {
   "codemirror_mode": {
    "name": "ipython",
    "version": 3
   },
   "file_extension": ".py",
   "mimetype": "text/x-python",
   "name": "python",
   "nbconvert_exporter": "python",
   "pygments_lexer": "ipython3",
   "version": "3.13.4"
  }
 },
 "nbformat": 4,
 "nbformat_minor": 5
}
