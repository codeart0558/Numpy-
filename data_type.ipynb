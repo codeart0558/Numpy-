{
 "cells": [
  {
   "cell_type": "code",
   "execution_count": null,
   "id": "78802ac0-01c7-4f22-b492-f793e71761d8",
   "metadata": {},
   "outputs": [],
   "source": [
    "# Data Types in Python\n",
    "# Below is a list of all data types in NumPy and the characters used to represent them.\n",
    "# i - integer\n",
    "# ? - boolean\n",
    "# u - unsigned integer\n",
    "# f - float\n",
    "# c - complex float\n",
    "# m - timedelta\n",
    "# M - datetime\n",
    "# O - object\n",
    "# S - string\n",
    "# U - unicode string\n",
    "# V - fixed chunk of memory for other type ( void )"
   ]
  },
  {
   "cell_type": "code",
   "execution_count": 9,
   "id": "5011056f-9e0d-4759-84ac-319f81d94b17",
   "metadata": {},
   "outputs": [
    {
     "name": "stdout",
     "output_type": "stream",
     "text": [
      "[-12  -2   3]\n",
      "int32\n"
     ]
    }
   ],
   "source": [
    "import numpy as np\n",
    "arr = np.array([-12,-2,-3],dtype='i')\n",
    "print(arr)\n",
    "print(arr.dtype)"
   ]
  },
  {
   "cell_type": "code",
   "execution_count": 8,
   "id": "c47340e0-bc3e-436e-9123-0b08abf3e423",
   "metadata": {},
   "outputs": [
    {
     "name": "stdout",
     "output_type": "stream",
     "text": [
      "[b'drashti' b'student' b'of' b'cs']\n",
      "|S7\n"
     ]
    }
   ],
   "source": [
    "arr = np.array([\"drashti\",\"student\",\"of\",\"cs\"],dtype='S')\n",
    "print(arr)\n",
    "print(arr.dtype)"
   ]
  },
  {
   "cell_type": "code",
   "execution_count": 13,
   "id": "8f70e8ca-550f-47dc-b550-d76b768346d7",
   "metadata": {},
   "outputs": [
    {
     "name": "stdout",
     "output_type": "stream",
     "text": [
      "['12' '2' '-3']\n",
      "<U2\n"
     ]
    }
   ],
   "source": [
    "arr = np.array([12,2,-3],dtype='U')\n",
    "print(arr)\n",
    "print(arr.dtype)\n",
    "# If you want to keep them as integers, just remove dtype='U'"
   ]
  },
  {
   "cell_type": "code",
   "execution_count": 19,
   "id": "438359a0-6ae9-4669-bb35-13881dd6742c",
   "metadata": {},
   "outputs": [
    {
     "name": "stdout",
     "output_type": "stream",
     "text": [
      "[ True False]\n",
      "bool\n",
      "[ True False]\n",
      "bool\n"
     ]
    }
   ],
   "source": [
    "arr = np.array([True,False],dtype='?')\n",
    "print(arr)\n",
    "print(arr.dtype)\n",
    "\n",
    "arr = np.array([True,False])\n",
    "print(arr)\n",
    "print(arr.dtype)"
   ]
  },
  {
   "cell_type": "code",
   "execution_count": 30,
   "id": "50b500fc-e57f-4fc2-bac4-aa9cccfddc15",
   "metadata": {},
   "outputs": [
    {
     "name": "stdout",
     "output_type": "stream",
     "text": [
      "[1 'a' list([1, 2])] object\n"
     ]
    }
   ],
   "source": [
    "arr_O = np.array([1, 'a', [1,2]], dtype='O')\n",
    "print(arr_O, arr_O.dtype)"
   ]
  },
  {
   "cell_type": "code",
   "execution_count": 39,
   "id": "5f6b62ec-7f0f-48bf-a9f7-0dfcaff1b0bc",
   "metadata": {},
   "outputs": [
    {
     "name": "stdout",
     "output_type": "stream",
     "text": [
      "['2023-01-01' '2024-01-01' '2024-01-01' '1970-01-10'] datetime64[D]\n"
     ]
    }
   ],
   "source": [
    "arr_M = np.array(['2023-01-01', '2024-01-01','2024-01-01',9], dtype='M8[D]')  # dates\n",
    "print(arr_M, arr_M.dtype)\n"
   ]
  },
  {
   "cell_type": "code",
   "execution_count": 34,
   "id": "8f9d8588-0706-4397-bbb8-a216b4974a0f",
   "metadata": {},
   "outputs": [
    {
     "name": "stdout",
     "output_type": "stream",
     "text": [
      "[ 1 34  3] timedelta64[D]\n"
     ]
    }
   ],
   "source": [
    "arr_m = np.array(['1', '34', '3'], dtype='m8[D]')  # timedeltas in days\n",
    "print(arr_m, arr_m.dtype)\n"
   ]
  }
 ],
 "metadata": {
  "kernelspec": {
   "display_name": "Python [conda env:base] *",
   "language": "python",
   "name": "conda-base-py"
  },
  "language_info": {
   "codemirror_mode": {
    "name": "ipython",
    "version": 3
   },
   "file_extension": ".py",
   "mimetype": "text/x-python",
   "name": "python",
   "nbconvert_exporter": "python",
   "pygments_lexer": "ipython3",
   "version": "3.12.7"
  }
 },
 "nbformat": 4,
 "nbformat_minor": 5
}
