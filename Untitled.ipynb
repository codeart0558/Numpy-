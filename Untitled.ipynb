{
 "cells": [
  {
   "cell_type": "code",
   "execution_count": 9,
   "id": "ec62cf05-67a9-4361-bbd2-5a76c47dec4b",
   "metadata": {},
   "outputs": [],
   "source": [
    "# create a numpy ndarray object\n",
    "# the array object in numpy is called ndarray\n",
    "# array() - to creat nd array\n",
    "# nd → means it can be 1D, 2D, 3D, etc.\n",
    "# we can also pass a list, tuple, or any array like object with array() method and it will be converted into ndarray.\n"
   ]
  },
  {
   "cell_type": "code",
   "execution_count": 10,
   "id": "055ed94d-6caa-4059-b5c3-3fd6e323fef6",
   "metadata": {},
   "outputs": [
    {
     "name": "stdout",
     "output_type": "stream",
     "text": [
      "[1 2 3 4 5]\n",
      "<class 'numpy.ndarray'>\n"
     ]
    }
   ],
   "source": [
    "import numpy as np\n",
    "x = np.array([1,2,3,4,5])\n",
    "print(x)\n",
    "print(type(x))\n"
   ]
  },
  {
   "cell_type": "code",
   "execution_count": 17,
   "id": "c1ee3987-23dd-42bf-89db-00ba9573549b",
   "metadata": {},
   "outputs": [
    {
     "name": "stdout",
     "output_type": "stream",
     "text": [
      "[1 2 3 6]\n"
     ]
    },
    {
     "ename": "ValueError",
     "evalue": "invalid literal for int() with base 10: 'yes'",
     "output_type": "error",
     "traceback": [
      "\u001b[31m---------------------------------------------------------------------------\u001b[39m",
      "\u001b[31mValueError\u001b[39m                                Traceback (most recent call last)",
      "\u001b[36mCell\u001b[39m\u001b[36m \u001b[39m\u001b[32mIn[17]\u001b[39m\u001b[32m, line 4\u001b[39m\n\u001b[32m      2\u001b[39m x = np.array([\u001b[32m1\u001b[39m, \u001b[32m2\u001b[39m, \u001b[32m3.5\u001b[39m,\u001b[32m6\u001b[39m], dtype=\u001b[38;5;28mint\u001b[39m)\n\u001b[32m      3\u001b[39m \u001b[38;5;28mprint\u001b[39m(x) \n\u001b[32m----> \u001b[39m\u001b[32m4\u001b[39m x = \u001b[43mnp\u001b[49m\u001b[43m.\u001b[49m\u001b[43marray\u001b[49m\u001b[43m(\u001b[49m\u001b[43m[\u001b[49m\u001b[32;43m1\u001b[39;49m\u001b[43m,\u001b[49m\u001b[43m \u001b[49m\u001b[32;43m2\u001b[39;49m\u001b[43m,\u001b[49m\u001b[43m \u001b[49m\u001b[32;43m3.5\u001b[39;49m\u001b[43m,\u001b[49m\u001b[33;43m'\u001b[39;49m\u001b[33;43myes\u001b[39;49m\u001b[33;43m'\u001b[39;49m\u001b[43m]\u001b[49m\u001b[43m,\u001b[49m\u001b[43m \u001b[49m\u001b[43mdtype\u001b[49m\u001b[43m=\u001b[49m\u001b[38;5;28;43mint\u001b[39;49m\u001b[43m)\u001b[49m\n\u001b[32m      5\u001b[39m \u001b[38;5;28mprint\u001b[39m(x) \n",
      "\u001b[31mValueError\u001b[39m: invalid literal for int() with base 10: 'yes'"
     ]
    }
   ],
   "source": [
    "# If you want to enforce a type:-\n",
    "x = np.array([1, 2, 3.5,6], dtype=int)\n",
    "print(x) \n",
    "\n",
    "x = np.array([1, 2, 3.5,'yes'], dtype=int)\n",
    "print(x) "
   ]
  },
  {
   "cell_type": "code",
   "execution_count": 6,
   "id": "cd92d0bb-449a-452e-a6f7-63920e5c3602",
   "metadata": {},
   "outputs": [
    {
     "name": "stdout",
     "output_type": "stream",
     "text": [
      "['1' '2' '3' 'yes' '5']\n",
      "<class 'numpy.ndarray'>\n"
     ]
    }
   ],
   "source": [
    "x = np.array((1,2,3,'yes',5))\n",
    "print(x)\n",
    "print(type(x))"
   ]
  },
  {
   "cell_type": "code",
   "execution_count": 33,
   "id": "a3721f31-7032-44bc-98c2-e57fd48c6675",
   "metadata": {},
   "outputs": [
    {
     "name": "stdout",
     "output_type": "stream",
     "text": [
      "[[1 2 3]\n",
      " [4 5 6]]\n",
      "[[[1 2 3]\n",
      "  [4 5 6]\n",
      "  [7 8 9]]\n",
      "\n",
      " [[9 8 7]\n",
      "  [6 5 4]\n",
      "  [3 2 1]]]\n",
      "[[[ 1  2  3]\n",
      "  [ 4  5  6]]\n",
      "\n",
      " [[ 6  7  8]\n",
      "  [ 9 10 11]]]\n"
     ]
    }
   ],
   "source": [
    "# dimensions in arrays - a dimensions in array is one level of array depth(nested array).\n",
    "# nested array - array inside array\n",
    "\n",
    "# one matrices example 1\n",
    "x = np.array([[1, 2, 3], [4, 5, 6]])\n",
    "print(x)\n",
    "\n",
    "# two matrices example 1\n",
    "matrices = np.array([\n",
    "    [  # first 3x3 matrix\n",
    "        [1, 2, 3],\n",
    "        [4, 5, 6],\n",
    "        [7, 8, 9]\n",
    "    ],\n",
    "    [  # second 3x3 matrix\n",
    "        [9, 8, 7],\n",
    "        [6, 5, 4],\n",
    "        [3, 2, 1]\n",
    "    ]\n",
    "])\n",
    "print(matrices)\n",
    "\n",
    "# two matrices  example 2\n",
    "a = np.array([[[1,2,3],[4,5,6]],[[6,7,8],[9,10,11]]])\n",
    "print(a)"
   ]
  },
  {
   "cell_type": "code",
   "execution_count": 51,
   "id": "5817f585-f766-47c3-9a3b-438766d783f1",
   "metadata": {},
   "outputs": [
    {
     "name": "stdout",
     "output_type": "stream",
     "text": [
      "42\n",
      "0\n",
      "<class 'numpy.ndarray'>\n",
      "[42]\n",
      "1\n",
      "<class 'numpy.ndarray'>\n",
      "[[1 2 3]\n",
      " [4 5 6]]\n",
      "2\n",
      "<class 'numpy.ndarray'>\n",
      "[[[ 1  2  3]\n",
      "  [ 4  5  6]]\n",
      "\n",
      " [[11 12 13]\n",
      "  [14 15 16]]]\n",
      "3\n",
      "<class 'numpy.ndarray'>\n",
      "[[[[1 2 3]\n",
      "   [4 5 6]]]\n",
      "\n",
      "\n",
      " [[[1 2 3]\n",
      "   [4 5 6]]]]\n",
      "4\n",
      "<class 'numpy.ndarray'>\n"
     ]
    }
   ],
   "source": [
    "# 0-D arrays - scalars,are the elements in an array, each value in an array is a 0-D array.\n",
    "# 0-D Arrays (Scalars) in NumPy\n",
    "# A 0-D array is just a single value (a scalar).\n",
    "# Even a single number in NumPy is treated as a 0-dimensional array.\n",
    "# Each element inside any NumPy array is itself a 0-D array.\n",
    "\n",
    "\n",
    "# diffrence explain\n",
    "# 0-D array (scalar):\n",
    "x = np.array(42)\n",
    "print(x)\n",
    "print(x.ndim)   # Number of dimensions\n",
    "print(type(x))\n",
    "\n",
    "# 1-D array (list of values):\n",
    "y = np.array([42])\n",
    "print(y)\n",
    "print(y.ndim)\n",
    "print(type(y))\n",
    "\n",
    "\n",
    "# 2-D array (list of values):\n",
    "z = np.array([[1,2,3],[4,5,6]])\n",
    "print(z)\n",
    "print(z.ndim)\n",
    "print(type(z))\n",
    "\n",
    "\n",
    "# 3-D array (list of values):\n",
    "d = np.array([[[1,2,3],[4,5,6]],[[11,12,13],[14,15,16]]])\n",
    "print(d)\n",
    "print(d.ndim)\n",
    "print(type(d))\n",
    "\n",
    "# 4-D array (list of values):\n",
    "df = np.array([[[[1,2,3],[4,5,6]]],[[[1,2,3],[4,5,6]]]])\n",
    "print(df)\n",
    "print(df.ndim)\n",
    "print(type(df))\n",
    "\n",
    "# No brackets for single scalar → 0-D array\n",
    "# One pair of brackets for 1D array (list)\n",
    "# Two pairs of brackets for 2D array (list of lists)"
   ]
  },
  {
   "cell_type": "code",
   "execution_count": 54,
   "id": "a9ddd0c7-bcf9-44e0-866d-e1a1d5c7835b",
   "metadata": {},
   "outputs": [
    {
     "name": "stdout",
     "output_type": "stream",
     "text": [
      "[[[[1 2 3 4 5]]]]\n",
      "number of dimensions : 4\n"
     ]
    }
   ],
   "source": [
    "# create an array with 4 dimensions and verify that it has 5 dimensions\n",
    "arr = np.array([1,2,3,4,5], ndmin = 4)\n",
    "print(arr)\n",
    "print(\"number of dimensions :\" ,arr.ndim)"
   ]
  }
 ],
 "metadata": {
  "kernelspec": {
   "display_name": "Python 3 (ipykernel)",
   "language": "python",
   "name": "python3"
  },
  "language_info": {
   "codemirror_mode": {
    "name": "ipython",
    "version": 3
   },
   "file_extension": ".py",
   "mimetype": "text/x-python",
   "name": "python",
   "nbconvert_exporter": "python",
   "pygments_lexer": "ipython3",
   "version": "3.11.8"
  }
 },
 "nbformat": 4,
 "nbformat_minor": 5
}
