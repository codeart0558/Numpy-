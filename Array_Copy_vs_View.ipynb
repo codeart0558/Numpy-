{
 "cells": [
  {
   "cell_type": "code",
   "execution_count": null,
   "id": "c6cc9ae5-9bb3-4347-accb-877b21006f32",
   "metadata": {},
   "outputs": [],
   "source": [
    "# Copy and View\n",
    "\n",
    "# -----> 1. copy():\n",
    "# copy() in NumPy creates a completely independent copy of the original array. \n",
    "# Changes made to the copy do not affect the original array.\n",
    "# Example sentence:\n",
    "# A copy creates a new array in memory, so its data is separate from the original array.\n",
    "\n",
    "# -----> 2. view():\n",
    "# view() in NumPy creates a new array object that looks at the same data as the original array.\n",
    "# Changes made to the view affect the original array, and vice versa.\n",
    "# Example sentence:\n",
    "# A view shares the data buffer with the original array, so changes in one will reflect in the other."
   ]
  },
  {
   "cell_type": "code",
   "execution_count": 2,
   "id": "ff7105ea-2dc3-4c8e-8fa5-a47e3228a6fe",
   "metadata": {},
   "outputs": [
    {
     "name": "stdout",
     "output_type": "stream",
     "text": [
      "[42  2  3  4  5]\n",
      "[1 2 3 4 5]\n"
     ]
    }
   ],
   "source": [
    "# COPY: If I change the original array arr, it will not affect the copied array x.\n",
    "# Similarly, if I change x, it will not affect the original array arr.\n",
    "import numpy as np\n",
    "\n",
    "arr = np.array([1, 2, 3, 4, 5])\n",
    "x = arr.copy()\n",
    "arr[0] = 42\n",
    "\n",
    "print(arr)\n",
    "print(x)"
   ]
  },
  {
   "cell_type": "code",
   "execution_count": 5,
   "id": "de2e7fb9-606b-410d-bdcc-33cb4096a344",
   "metadata": {},
   "outputs": [
    {
     "name": "stdout",
     "output_type": "stream",
     "text": [
      "[ 42   2   3   4 100]\n",
      "[ 42   2   3   4 100]\n"
     ]
    }
   ],
   "source": [
    "arr = np.array([1, 2, 3, 4, 5])\n",
    "arr[0] = 42\n",
    "x = arr.copy()\n",
    "x[4] = 100\n",
    "\n",
    "print(arr)\n",
    "print(x)"
   ]
  },
  {
   "cell_type": "code",
   "execution_count": 7,
   "id": "422530b9-e534-4064-b74e-e4b0f7aad98c",
   "metadata": {},
   "outputs": [
    {
     "name": "stdout",
     "output_type": "stream",
     "text": [
      "[ 42   2   3   4 100]\n",
      "[42  2  3  4  5]\n"
     ]
    }
   ],
   "source": [
    "arr = np.array([1, 2, 3, 4, 5])\n",
    "arr[0] = 42\n",
    "x = arr.copy()\n",
    "arr[4] = 100\n",
    "\n",
    "print(arr)\n",
    "print(x)"
   ]
  },
  {
   "cell_type": "code",
   "execution_count": 27,
   "id": "cbc9c0ac-8bed-41b0-9aa3-e24324661ff0",
   "metadata": {},
   "outputs": [
    {
     "name": "stdout",
     "output_type": "stream",
     "text": [
      "[100 200 300 400 500 600 700]\n",
      "\n",
      "\n",
      "[   100    200 111111    400    500    600    700] -> i affect in (copyy) for check this (affect in original array) or not\n",
      "[100 200 300 400 500 600 700] -> this (not affected by copyy)\n",
      "\n",
      "\n",
      "[    100     200     300     400     500 2222222     700] -> i affect in (original arr) for check this (affect in copyy) or not\n",
      "[   100    200 111111    400    500    600    700] -> this (not affected by array)\n"
     ]
    }
   ],
   "source": [
    "arr = np.array([100,200,300,400,500,600,700])\n",
    "print(arr)\n",
    "print('\\n')\n",
    "copyy = arr.copy()\n",
    "copyy[2] = 111111\n",
    "print(copyy,\"-> i affect in (copyy) for check this (affect in original array) or not\")\n",
    "print(arr,\"-> this (not affected by copyy)\")\n",
    "print(\"\\n\")\n",
    "arr[5] = 2222222\n",
    "print(arr,\"-> i affect in (original arr) for check this (affect in copyy) or not\")\n",
    "print(copyy,\"-> this (not affected by array)\")\n",
    "\n"
   ]
  },
  {
   "cell_type": "code",
   "execution_count": 22,
   "id": "202601df-0ed1-4881-9665-249962b6ff6a",
   "metadata": {},
   "outputs": [
    {
     "name": "stdout",
     "output_type": "stream",
     "text": [
      "[1 2 3 4 5 6] dimension of array is  1\n",
      "\n",
      "\n",
      "[1 2 3 4 5 6] this is an original array\n",
      "[1 2 3 4 5 6] this is an view array\n",
      "\n",
      "\n",
      "[  1   2 100   4   5   6] -> i affect in (viewy) for check this (affect in original array) or not\n",
      "[  1   2 100   4   5   6] -> yes this (affected by viewy)\n",
      "\n",
      "\n",
      "[  1   2 100   4   5   0] -> i affect in (original arr) for check this (affect in viewy) or not\n",
      "[  1   2 100   4   5   0] -> yes this (affected by array)\n"
     ]
    }
   ],
   "source": [
    "# VIEW:\n",
    "# If I change the original array arr, it will affect the view array y.\n",
    "# Similarly, if I change y, it will affect the original array arr.\n",
    "\n",
    "arr = np.array([1,2,3,4,5,6])\n",
    "print(arr,\"dimension of array is \" , arr.ndim)\n",
    "print(\"\\n\")\n",
    "print(arr,\"this is an original array\")\n",
    "\n",
    "viewy = arr.view()\n",
    "print(viewy,\"this is an view array\")\n",
    "print(\"\\n\")\n",
    "viewy[2] = 100\n",
    "print(viewy,\"-> i affect in (viewy) for check this (affect in original array) or not\")\n",
    "print(arr,\"-> yes this (affected by viewy)\")\n",
    "print(\"\\n\")\n",
    "arr[5] = 00000\n",
    "print(arr,\"-> i affect in (original arr) for check this (affect in viewy) or not\")\n",
    "print(viewy,\"-> yes this (affected by array)\")\n",
    "\n"
   ]
  },
  {
   "cell_type": "code",
   "execution_count": null,
   "id": "f4bb49d1-a8c6-4c4b-946f-187ccae092a5",
   "metadata": {},
   "outputs": [],
   "source": [
    "# now,copy has a owns data\n",
    "# but view has not owns data ---------> but how can we check this?\n",
    "\n",
    "# check :---\n",
    "# Every NumPy array has the attribute base that returns None if the array owns the data.\n",
    "# Otherwise, the base  attribute refers to the original object."
   ]
  },
  {
   "cell_type": "code",
   "execution_count": 28,
   "id": "acdb6bea-e41e-40ef-af6c-fb45879ff73a",
   "metadata": {},
   "outputs": [
    {
     "name": "stdout",
     "output_type": "stream",
     "text": [
      "None\n",
      "[1 2 3 4 5]\n"
     ]
    }
   ],
   "source": [
    "\n",
    "arr = np.array([1, 2, 3, 4, 5])\n",
    "\n",
    "x = arr.copy()\n",
    "y = arr.view()\n",
    "\n",
    "print(x.base)\n",
    "print(y.base)"
   ]
  }
 ],
 "metadata": {
  "kernelspec": {
   "display_name": "Python 3 (ipykernel)",
   "language": "python",
   "name": "python3"
  },
  "language_info": {
   "codemirror_mode": {
    "name": "ipython",
    "version": 3
   },
   "file_extension": ".py",
   "mimetype": "text/x-python",
   "name": "python",
   "nbconvert_exporter": "python",
   "pygments_lexer": "ipython3",
   "version": "3.13.4"
  }
 },
 "nbformat": 4,
 "nbformat_minor": 5
}
