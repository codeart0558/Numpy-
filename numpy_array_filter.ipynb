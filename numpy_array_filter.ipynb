{
 "cells": [
  {
   "cell_type": "code",
   "execution_count": null,
   "id": "d88d2c1f-242b-4d70-8e4e-87d4d8e7d5d7",
   "metadata": {},
   "outputs": [],
   "source": [
    "# ** array filter\n",
    "# Getting some elements out of an existing array and creating a new array out of them is called filtering.\n",
    "# you filter an array using a boolean index list.\n",
    "#     A boolean index list is a list of booleans corresponding to indexes in the array. \n",
    "#     means:-If the value at an index is True that element is contained in the filtered array,\n",
    "#     if the value at that index is False that element is excluded from the filtered array."
   ]
  },
  {
   "cell_type": "code",
   "execution_count": 2,
   "id": "4d3129f1-ac56-46bd-a278-75c579615c66",
   "metadata": {},
   "outputs": [
    {
     "name": "stdout",
     "output_type": "stream",
     "text": [
      "[1 0]\n"
     ]
    }
   ],
   "source": [
    "import numpy as np\n",
    "arr = np.array([1,2,0,4])\n",
    "x = [True,False,True,False]\n",
    "new = arr[x]\n",
    "print(new)"
   ]
  },
  {
   "cell_type": "code",
   "execution_count": 13,
   "id": "1cfd5792-dc65-48d0-b450-05079471d11a",
   "metadata": {},
   "outputs": [
    {
     "name": "stdout",
     "output_type": "stream",
     "text": [
      "[True, False, False, False, False, False]\n",
      "[100   2   3   4   5   6]\n"
     ]
    }
   ],
   "source": [
    "# create the filter array\n",
    "# if the element is higher than 50, set the value to True, otherwise False:\n",
    "arr = np.array([100,2,3,4,5,6])\n",
    "\n",
    "filter_array = []\n",
    "\n",
    "for i in arr:\n",
    "    if i > 50:\n",
    "        filter_array.append(True)\n",
    "    else:\n",
    "        filter_array.append(False)\n",
    "\n",
    "new = arr[filter_array]\n",
    "print(filter_array)\n",
    "print(arr)"
   ]
  },
  {
   "cell_type": "code",
   "execution_count": 14,
   "id": "0dd216fb-cdcf-4b5f-93c7-ecb288b4c345",
   "metadata": {},
   "outputs": [
    {
     "name": "stdout",
     "output_type": "stream",
     "text": [
      "[False, True, False, True, False, True, False]\n",
      "[2 4 6]\n"
     ]
    }
   ],
   "source": [
    "# Create a filter array that will return only even elements from the original array:\n",
    "\n",
    "arr = np.array([1, 2, 3, 4, 5, 6, 7])\n",
    "\n",
    "# Create an empty list\n",
    "filter_arr = []\n",
    "\n",
    "# go through each element in arr\n",
    "for element in arr:\n",
    "  # if the element is completely divisble by 2, set the value to True, otherwise False\n",
    "  if element % 2 == 0:\n",
    "    filter_arr.append(True)\n",
    "  else:\n",
    "    filter_arr.append(False)\n",
    "\n",
    "newarr = arr[filter_arr]\n",
    "\n",
    "print(filter_arr)\n",
    "print(newarr)"
   ]
  },
  {
   "cell_type": "code",
   "execution_count": 15,
   "id": "73d3a4f8-8356-4db7-9874-0e7f4c7a08f5",
   "metadata": {},
   "outputs": [
    {
     "name": "stdout",
     "output_type": "stream",
     "text": [
      "[False False  True  True]\n",
      "[43 44]\n"
     ]
    }
   ],
   "source": [
    "# Creating Filter Directly From Array\n",
    "# We can directly substitute the array instead of the iterable variable in our condition and it will work just as we expect it to.\n",
    "import numpy as np\n",
    "\n",
    "arr = np.array([41, 42, 43, 44])\n",
    "\n",
    "filter_arr = arr > 42\n",
    "\n",
    "newarr = arr[filter_arr]\n",
    "\n",
    "print(filter_arr)\n",
    "print(newarr)"
   ]
  }
 ],
 "metadata": {
  "kernelspec": {
   "display_name": "Python 3 (ipykernel)",
   "language": "python",
   "name": "python3"
  },
  "language_info": {
   "codemirror_mode": {
    "name": "ipython",
    "version": 3
   },
   "file_extension": ".py",
   "mimetype": "text/x-python",
   "name": "python",
   "nbconvert_exporter": "python",
   "pygments_lexer": "ipython3",
   "version": "3.11.8"
  }
 },
 "nbformat": 4,
 "nbformat_minor": 5
}
