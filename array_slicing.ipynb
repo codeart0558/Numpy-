{
 "cells": [
  {
   "cell_type": "code",
   "execution_count": 1,
   "id": "29077af0-3d91-429e-82a4-462572961062",
   "metadata": {},
   "outputs": [],
   "source": [
    "# Slicing arrays\n",
    "# Slicing in python means taking elements from one given index to another given index.\n",
    "# We pass slice instead of index like this: [start:end-1].\n",
    "# We can also define the step, like this: [start:end-1:step].\n",
    "# If we don't pass start its considered 0\n",
    "# If we don't pass end its considered length of array in that dimension\n",
    "# If we don't pass step its considered 1"
   ]
  },
  {
   "cell_type": "code",
   "execution_count": 4,
   "id": "49e14b18-8e51-4083-85cb-168b141424f2",
   "metadata": {},
   "outputs": [
    {
     "name": "stdout",
     "output_type": "stream",
     "text": [
      "[1 2 3 4 5]\n"
     ]
    }
   ],
   "source": [
    "import numpy as np\n",
    "# slicing with 1-D array\n",
    "arr = np.array([1,2,3,4,5])\n",
    "print(arr)"
   ]
  },
  {
   "cell_type": "code",
   "execution_count": 20,
   "id": "43d5daa7-a385-4d76-a77e-7a8bb6a746e2",
   "metadata": {},
   "outputs": [
    {
     "name": "stdout",
     "output_type": "stream",
     "text": [
      "[2 3]\n",
      "[2 3]\n",
      "[]\n",
      "[1 2 3 4]\n",
      "[5 4 3 2]\n",
      "[4 3]\n"
     ]
    }
   ],
   "source": [
    "print(arr[1:3]) \n",
    "print(arr[1:-2])\n",
    "print(arr[-1:-5])\n",
    "print(arr[-5:-1])\n",
    "print(arr[-1:-5:-1])\n",
    "print(arr[-2:1:-1])"
   ]
  },
  {
   "cell_type": "code",
   "execution_count": 32,
   "id": "71bfbed3-c171-4f6a-ba04-e859476ecf4e",
   "metadata": {},
   "outputs": [
    {
     "name": "stdout",
     "output_type": "stream",
     "text": [
      "[[1 2 3]\n",
      " [4 5 6]]\n",
      "2\n",
      "[4 5 6]\n",
      "[3 2 1]\n"
     ]
    }
   ],
   "source": [
    "# slicing with 2-D array\n",
    "arr = np.array([[1,2,3],[4,5,6]])\n",
    "print(arr)\n",
    "print(arr.ndim)\n",
    "print(arr[1,0:2+1])\n",
    "print(arr[0,-1:-3-1:-1])"
   ]
  },
  {
   "cell_type": "code",
   "execution_count": 49,
   "id": "d6f324a7-4ed8-4bfc-a98b-74c30a887c9e",
   "metadata": {},
   "outputs": [
    {
     "name": "stdout",
     "output_type": "stream",
     "text": [
      "dimension of array :  3\n",
      "[[[ 1  2  3]\n",
      "  [ 4  5  6]]\n",
      "\n",
      " [[11 12 13]\n",
      "  [ 0  0  0]]]\n",
      "1\n",
      "11\n",
      "[11 12 13]\n",
      "[0 0]\n"
     ]
    }
   ],
   "source": [
    "# slicing with 3-D array\n",
    "arr = np.array([[[1,2,3],[4,5,6]],[[11,12,13],[0,0,0]]])\n",
    "print(\"dimension of array : \" , arr.ndim)\n",
    "print(arr)\n",
    "print(arr[0,0,0])\n",
    "print(arr[1,0,0])\n",
    "print(arr[1,0,0:2+1])\n",
    "print(arr[1,1,0:2])"
   ]
  },
  {
   "cell_type": "code",
   "execution_count": null,
   "id": "1b16c900-ffee-43c6-88e2-cc2f7af7fab0",
   "metadata": {},
   "outputs": [],
   "source": []
  }
 ],
 "metadata": {
  "kernelspec": {
   "display_name": "Python [conda env:base] *",
   "language": "python",
   "name": "conda-base-py"
  },
  "language_info": {
   "codemirror_mode": {
    "name": "ipython",
    "version": 3
   },
   "file_extension": ".py",
   "mimetype": "text/x-python",
   "name": "python",
   "nbconvert_exporter": "python",
   "pygments_lexer": "ipython3",
   "version": "3.12.7"
  }
 },
 "nbformat": 4,
 "nbformat_minor": 5
}
