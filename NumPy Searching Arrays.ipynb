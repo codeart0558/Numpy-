{
 "cells": [
  {
   "cell_type": "code",
   "execution_count": null,
   "id": "e933c653-2c79-4eec-aa43-3b3823270858",
   "metadata": {},
   "outputs": [],
   "source": [
    "# NumPy Searching Arrays\n",
    "# Searching Arrays\n",
    "# You can search an array for a certain value, and return the indexes that get a match.\n",
    "# To search an array, use the where() method."
   ]
  },
  {
   "cell_type": "code",
   "execution_count": 4,
   "id": "69069ff1-21b7-49fa-93a2-aaf373d86be5",
   "metadata": {},
   "outputs": [
    {
     "name": "stdout",
     "output_type": "stream",
     "text": [
      "[1 2 3 4 5 5 6 7 8 5]\n",
      "(array([4, 5, 9], dtype=int64),)\n"
     ]
    }
   ],
   "source": [
    "import numpy as np\n",
    "arr = np.array([1,2,3,4,5,5,6,7,8,5])\n",
    "print(arr)\n",
    "x = np.where(arr == 5)\n",
    "print(x)"
   ]
  },
  {
   "cell_type": "code",
   "execution_count": 7,
   "id": "76f1c733-7f95-4e7a-9f43-babc938a7067",
   "metadata": {},
   "outputs": [
    {
     "name": "stdout",
     "output_type": "stream",
     "text": [
      "(array([1, 3, 5, 6], dtype=int64),)\n"
     ]
    }
   ],
   "source": [
    "# find the even number from the list\n",
    "arr = np.array([1, 2, 3, 4, 5, 4, 4])\n",
    "\n",
    "x = np.where(arr%2 == 0)\n",
    "\n",
    "print(x)"
   ]
  },
  {
   "cell_type": "code",
   "execution_count": 8,
   "id": "530045f4-a73a-4b8a-b6a8-fcf69771b35e",
   "metadata": {},
   "outputs": [
    {
     "name": "stdout",
     "output_type": "stream",
     "text": [
      "(array([0, 2, 4], dtype=int64),)\n"
     ]
    }
   ],
   "source": [
    "# find the odd number from the list\n",
    "arr = np.array([1, 2, 3, 4, 5, 4, 4])\n",
    "\n",
    "x = np.where(arr%2 == 1)\n",
    "\n",
    "print(x)"
   ]
  },
  {
   "cell_type": "code",
   "execution_count": null,
   "id": "7f863f80-9036-4b0e-bf0a-e23decd1d43f",
   "metadata": {},
   "outputs": [],
   "source": [
    "# Search Sorted\n",
    "# There is a method called searchsorted() which performs a binary search in the array,\n",
    "# and returns the index where the specified value would be inserted to maintain the search order.\n",
    "\n",
    "# The searchsorted() method is assumed to be used on sorted arrays."
   ]
  },
  {
   "cell_type": "code",
   "execution_count": 12,
   "id": "31a697b7-fe13-474c-9609-8d47beb7fc06",
   "metadata": {},
   "outputs": [
    {
     "name": "stdout",
     "output_type": "stream",
     "text": [
      "1\n"
     ]
    }
   ],
   "source": [
    "\n",
    "arr = np.array([6, 7, 8, 9])\n",
    "\n",
    "x = np.searchsorted(arr, 7)\n",
    "\n",
    "print(x)"
   ]
  },
  {
   "cell_type": "code",
   "execution_count": null,
   "id": "1afb0dea-b847-4feb-a991-99f7d740da19",
   "metadata": {},
   "outputs": [],
   "source": [
    "# Search From the Right Side\n",
    "# By default the left most index is returned, but we can give side='right' to return the right most index instead."
   ]
  },
  {
   "cell_type": "code",
   "execution_count": 14,
   "id": "9b9c7c3e-df26-4129-8923-0e43a86ca3f6",
   "metadata": {},
   "outputs": [
    {
     "name": "stdout",
     "output_type": "stream",
     "text": [
      "from right side 2\n",
      "from left side 1\n"
     ]
    }
   ],
   "source": [
    "\n",
    "arr = np.array([6, 7, 8, 9])\n",
    "\n",
    "x = np.searchsorted(arr, 7, side='right')\n",
    "x2 = np.searchsorted(arr, 7, side='left')\n",
    "\n",
    "print(\"from right side\",x)\n",
    "print(\"from left side\" ,x2)"
   ]
  },
  {
   "cell_type": "code",
   "execution_count": null,
   "id": "71bc52fe-4e5b-42ed-8889-f6d87fc41119",
   "metadata": {},
   "outputs": [],
   "source": [
    "# Multiple Values\n",
    "# To search for more than one value, use an array with the specified values."
   ]
  },
  {
   "cell_type": "code",
   "execution_count": 18,
   "id": "30b770bc-faad-4a63-9488-674c7e154e7c",
   "metadata": {},
   "outputs": [
    {
     "name": "stdout",
     "output_type": "stream",
     "text": [
      "[3 2 0]\n"
     ]
    }
   ],
   "source": [
    "# Find the indexes where the values 22, 44, and 76 should be inserted:\n",
    "\n",
    "arr = np.array([1, 3, 5, 7])\n",
    "\n",
    "x = np.searchsorted(arr, [7 , 5, 1])\n",
    "\n",
    "print(x)\n"
   ]
  }
 ],
 "metadata": {
  "kernelspec": {
   "display_name": "Python [conda env:base] *",
   "language": "python",
   "name": "conda-base-py"
  },
  "language_info": {
   "codemirror_mode": {
    "name": "ipython",
    "version": 3
   },
   "file_extension": ".py",
   "mimetype": "text/x-python",
   "name": "python",
   "nbconvert_exporter": "python",
   "pygments_lexer": "ipython3",
   "version": "3.12.7"
  }
 },
 "nbformat": 4,
 "nbformat_minor": 5
}
