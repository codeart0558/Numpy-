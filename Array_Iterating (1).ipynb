{
 "cells": [
  {
   "cell_type": "code",
   "execution_count": null,
   "id": "1ccbcc93-636a-4294-93dd-c24b39c45e5d",
   "metadata": {},
   "outputs": [],
   "source": [
    "# Iterating Arrays\n",
    "# Iterating means going through elements one by one.\n",
    "# As we deal with multi-dimensional arrays in numpy, we can do this using basic for loop of python.\n",
    "# If we iterate on a 1-D array it will go through each element one by one."
   ]
  },
  {
   "cell_type": "code",
   "execution_count": 3,
   "id": "2f1f7520-adc7-47ec-b035-f443faccfce1",
   "metadata": {},
   "outputs": [
    {
     "name": "stdout",
     "output_type": "stream",
     "text": [
      "[1 2 3 4 5]\n",
      "1\n",
      "2\n",
      "3\n",
      "4\n",
      "5\n"
     ]
    }
   ],
   "source": [
    "import numpy as np\n",
    "# 1-D array-\n",
    "arr = np.array([1,2,3,4,5])\n",
    "print(arr)\n",
    "for i in arr:\n",
    "    print(i)"
   ]
  },
  {
   "cell_type": "code",
   "execution_count": 10,
   "id": "5448ae73-95d9-4387-8223-cb1d4226b2f3",
   "metadata": {},
   "outputs": [
    {
     "name": "stdout",
     "output_type": "stream",
     "text": [
      "[[1 2 3]\n",
      " [4 5 6]] -> 2\n",
      "1\n",
      "2\n",
      "3\n",
      "4\n",
      "5\n",
      "6\n"
     ]
    }
   ],
   "source": [
    "# 2-D array\n",
    "arr = np.array([[1,2,3],[4,5,6]])\n",
    "print(arr, \"->\",arr.ndim)\n",
    "for i in arr:\n",
    "    for j in i:\n",
    "        print(j)"
   ]
  },
  {
   "cell_type": "code",
   "execution_count": 15,
   "id": "f1267820-71fc-4a58-b153-de7775ccdb21",
   "metadata": {},
   "outputs": [
    {
     "name": "stdout",
     "output_type": "stream",
     "text": [
      "[[[1 2 3]\n",
      "  [4 5 6]\n",
      "  [7 8 9]]] -> 3\n",
      "1\n",
      "2\n",
      "3\n",
      "4\n",
      "5\n",
      "6\n",
      "7\n",
      "8\n",
      "9\n"
     ]
    }
   ],
   "source": [
    "arr = np.array([[[1,2,3],[4,5,6],[7,8,9]]])\n",
    "print(arr,\"->\",arr.ndim)\n",
    "for i in arr:\n",
    "    for j in i:\n",
    "        for k in j:\n",
    "            print(k)"
   ]
  },
  {
   "cell_type": "code",
   "execution_count": null,
   "id": "170a5f7a-63f4-4680-bd63-70cbb69a15d0",
   "metadata": {},
   "outputs": [],
   "source": [
    "# Iterating Arrays Using nditer()\n",
    "# The function nditer() is a helping function that can be used from very basic to very advanced iterations. \n",
    "# It solves some basic issues which we face in iteration, lets go through it with examples.\n"
   ]
  },
  {
   "cell_type": "code",
   "execution_count": 22,
   "id": "8d83ecfe-ba8d-4a49-a63d-68986e3cc22b",
   "metadata": {},
   "outputs": [
    {
     "name": "stdout",
     "output_type": "stream",
     "text": [
      "1\n",
      "2\n",
      "3\n",
      "4\n",
      "5\n",
      "6\n",
      "7\n",
      "8\n",
      "9\n"
     ]
    }
   ],
   "source": [
    "arr = np.array([[[1,2,3],[4,5,6],[7,8,9]]])\n",
    "for i in np.nditer(arr):\n",
    "    print(i)"
   ]
  },
  {
   "cell_type": "code",
   "execution_count": null,
   "id": "65cd87ac-50c8-4776-9b8c-dd9f5c2afff4",
   "metadata": {},
   "outputs": [],
   "source": [
    "# Iterating Array With Different Data Types\n",
    "# We can use op_dtypes argument and pass it the expected datatype to change the datatype of elements while iterating.\n",
    "# NumPy does not change the data type of the element in-place (where the element is in array) \n",
    "# so it needs some other space to perform this action,\n",
    "# that extra space is called buffer, and in order to enable it in nditer() we pass flags=['buffered'].\n",
    "\n"
   ]
  },
  {
   "cell_type": "code",
   "execution_count": 23,
   "id": "20c8a80f-042d-4132-8ef6-747acdac4ae1",
   "metadata": {},
   "outputs": [
    {
     "name": "stdout",
     "output_type": "stream",
     "text": [
      "b'1'\n",
      "b'2'\n",
      "b'3'\n"
     ]
    }
   ],
   "source": [
    "\n",
    "arr = np.array([1, 2, 3])\n",
    "\n",
    "for x in np.nditer(arr, flags=['buffered'], op_dtypes=['S']):\n",
    "  print(x)"
   ]
  },
  {
   "cell_type": "code",
   "execution_count": 25,
   "id": "4b1b70a2-833f-46b4-bf1e-25d38994eea9",
   "metadata": {},
   "outputs": [
    {
     "name": "stdout",
     "output_type": "stream",
     "text": [
      "True\n",
      "False\n",
      "True\n"
     ]
    }
   ],
   "source": [
    "import numpy as np\n",
    "\n",
    "arr = np.array([11, 0, -1])\n",
    "\n",
    "for x in np.nditer(arr, flags=['buffered'], op_dtypes=[bool],casting='unsafe'):\n",
    "    print(x)\n"
   ]
  },
  {
   "cell_type": "code",
   "execution_count": 62,
   "id": "93bc3c88-efc6-4d94-a233-d42be7b611b5",
   "metadata": {},
   "outputs": [
    {
     "name": "stdout",
     "output_type": "stream",
     "text": [
      "[[ 4  2]\n",
      " [ 8  6]\n",
      " [ 4  2]\n",
      " [18 12]]\n",
      "\n",
      "\n",
      "[18 12]\n",
      "\n",
      "\n",
      "[[18 12]\n",
      " [ 4  2]\n",
      " [ 8  6]\n",
      " [ 4  2]]\n",
      "-1\n",
      "\n",
      "\n",
      "1\n",
      "2\n",
      "3\n",
      "4\n",
      "1\n",
      "2\n",
      "3\n",
      "4\n"
     ]
    }
   ],
   "source": [
    "# Iterating With Different Step Size\n",
    "\n",
    "arr = np.array([[1, 2, 3, 4],\n",
    "                [5, 6, 7, 8],[1, 2, 3, 4],\n",
    "                [11, 12, 17, 18]])\n",
    "\n",
    "# arr[row_slice, col_slice]  ------ Slice rows and columns separately\n",
    "print(arr[::,-1::-2])\n",
    "print('\\n')\n",
    "print(arr[-1,-1::-2])\n",
    "print('\\n')\n",
    "print(arr[::-1,-1::-2])\n",
    "\n",
    "\n",
    "print('\\n')\n",
    "\n",
    "for x in np.nditer(arr[::2]):            # arr[row_slice] ----------------- Slice only rows, all columns included\n",
    "  print(x)\n"
   ]
  },
  {
   "cell_type": "code",
   "execution_count": 39,
   "id": "1a42a84d-6426-484f-a28d-e5a4b9220dee",
   "metadata": {},
   "outputs": [
    {
     "name": "stdout",
     "output_type": "stream",
     "text": [
      "(0,) 1\n",
      "(1,) 2\n",
      "(2,) 3\n"
     ]
    }
   ],
   "source": [
    "# Enumerated Iteration Using ndenumerate()\n",
    "# Enumeration means mentioning sequence number of somethings one by one.\n",
    "# Sometimes we require corresponding index of the element while iterating, the ndenumerate() method can be used for those usecases."
   ]
  },
  {
   "cell_type": "code",
   "execution_count": 40,
   "id": "5502b41e-6057-4d7e-930b-484b9814518e",
   "metadata": {},
   "outputs": [
    {
     "name": "stdout",
     "output_type": "stream",
     "text": [
      "(0, 0) 1\n",
      "(0, 1) 2\n",
      "(0, 2) 3\n",
      "(0, 3) 4\n",
      "(1, 0) 5\n",
      "(1, 1) 6\n",
      "(1, 2) 7\n",
      "(1, 3) 8\n"
     ]
    }
   ],
   "source": [
    "\n",
    "arr = np.array([[1, 2, 3, 4], [5, 6, 7, 8]])\n",
    "\n",
    "for idx, x in np.ndenumerate(arr):\n",
    "  print(idx, x)"
   ]
  },
  {
   "cell_type": "code",
   "execution_count": 85,
   "id": "099de039-3011-46a9-9a72-e1043d459e60",
   "metadata": {},
   "outputs": [
    {
     "name": "stdout",
     "output_type": "stream",
     "text": [
      "[4, 2]\n",
      "[8, 6]\n",
      "[4, 2]\n",
      "[18, 12]\n",
      "\n",
      "\n"
     ]
    }
   ],
   "source": [
    "# Iterating With Different Step Size\n",
    "\n",
    "arr = [[1, 2, 3, 4],\n",
    "                [5, 6, 7, 8],[1, 2, 3, 4],\n",
    "                [11, 12, 17, 18]]\n",
    "\n",
    "for i in arr:\n",
    "    print(i[-1::-2])\n",
    "    \n",
    "print('\\n')\n"
   ]
  },
  {
   "cell_type": "code",
   "execution_count": 86,
   "id": "bfd86341-5d76-45af-800d-be0cc4184d4b",
   "metadata": {},
   "outputs": [
    {
     "name": "stdout",
     "output_type": "stream",
     "text": [
      "[2, 4]\n",
      "[6, 8]\n",
      "[2, 4]\n",
      "[12, 18]\n",
      "\n",
      "\n"
     ]
    }
   ],
   "source": [
    "\n",
    "arr = [[1, 2, 3, 4],\n",
    "                [5, 6, 7, 8],[1, 2, 3, 4],\n",
    "                [11, 12, 17, 18]]\n",
    "\n",
    "for i in arr:\n",
    "    print(i[1::2])\n",
    "    \n",
    "print('\\n')"
   ]
  },
  {
   "cell_type": "code",
   "execution_count": 2,
   "id": "27371ded-e809-4647-832c-b3a22b02bde7",
   "metadata": {},
   "outputs": [
    {
     "name": "stdout",
     "output_type": "stream",
     "text": [
      "[[11, 12, 17, 18], [1, 2, 3, 4], [5, 6, 7, 8], [1, 2, 3, 4]]\n",
      "[18, 12]\n",
      "[4, 2]\n",
      "[8, 6]\n",
      "[4, 2]\n"
     ]
    }
   ],
   "source": [
    "arr = [[1, 2, 3, 4],\n",
    "       [5, 6, 7, 8],\n",
    "       [1, 2, 3, 4],\n",
    "       [11, 12, 17, 18]]\n",
    "\n",
    "# Reverse the outer list\n",
    "reversed_arr = arr[::-1]\n",
    "print(reversed_arr)\n",
    "# For each inner list, print elements starting from the last element, stepping backwards by 2\n",
    "for sublist in reversed_arr:\n",
    "    print(sublist[::-2])\n"
   ]
  }
 ],
 "metadata": {
  "kernelspec": {
   "display_name": "Python 3 (ipykernel)",
   "language": "python",
   "name": "python3"
  },
  "language_info": {
   "codemirror_mode": {
    "name": "ipython",
    "version": 3
   },
   "file_extension": ".py",
   "mimetype": "text/x-python",
   "name": "python",
   "nbconvert_exporter": "python",
   "pygments_lexer": "ipython3",
   "version": "3.11.8"
  }
 },
 "nbformat": 4,
 "nbformat_minor": 5
}
