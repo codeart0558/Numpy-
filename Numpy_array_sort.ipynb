{
 "cells": [
  {
   "cell_type": "code",
   "execution_count": 19,
   "id": "e18c6959-00d1-40b6-9184-d0c9e22cfe49",
   "metadata": {},
   "outputs": [
    {
     "name": "stdout",
     "output_type": "stream",
     "text": [
      "[-1  0  3  5  7]\n"
     ]
    }
   ],
   "source": [
    "# sorting array\n",
    "# sort() fucntion use in array sorting\n",
    "# sort() function sort a specified array\n",
    "import numpy as np\n",
    "arr = np.array([5,3,7,-1,0])\n",
    "print(np.sort(arr)) # this is method is like the copy not affect in original array"
   ]
  },
  {
   "cell_type": "code",
   "execution_count": 20,
   "id": "b867ea14-2e34-4580-8d25-24042f36e39e",
   "metadata": {},
   "outputs": [
    {
     "name": "stdout",
     "output_type": "stream",
     "text": [
      "['a' 'o' 'u']\n",
      "['man' 'no' 'woman' 'yes']\n"
     ]
    }
   ],
   "source": [
    "# sort the array alphabetically\n",
    "arr = np.array(['u','o','a',])\n",
    "print(np.sort(arr))\n",
    "\n",
    "\n",
    "arr2 = np.array(['man','woman','yes','no'])\n",
    "print(np.sort(arr2))"
   ]
  },
  {
   "cell_type": "code",
   "execution_count": 21,
   "id": "f42f77ba-551d-4865-a51b-95411edbaada",
   "metadata": {},
   "outputs": [
    {
     "name": "stdout",
     "output_type": "stream",
     "text": [
      "[False False  True  True]\n"
     ]
    }
   ],
   "source": [
    "arr = np.array([True,False,False,True])\n",
    "print(np.sort(arr))"
   ]
  },
  {
   "cell_type": "code",
   "execution_count": 22,
   "id": "2efd27b1-c908-4e45-a15e-0016ec2b34ed",
   "metadata": {},
   "outputs": [
    {
     "name": "stdout",
     "output_type": "stream",
     "text": [
      "[[1 2 3]\n",
      " [4 6 7]]\n"
     ]
    }
   ],
   "source": [
    "# sorting the 2 D array\n",
    "arr = np.array([[3,2,1],[7,4,6]])\n",
    "print(np.sort(arr))"
   ]
  },
  {
   "cell_type": "code",
   "execution_count": 23,
   "id": "9097d3b6-03d9-45b7-90de-32355c2142c7",
   "metadata": {},
   "outputs": [
    {
     "name": "stdout",
     "output_type": "stream",
     "text": [
      "dim-> 3 [[[-1  0  4]\n",
      "  [ 3  7  8]]]\n"
     ]
    }
   ],
   "source": [
    "# sorting the 2 D array\n",
    "arr = np.array([[[0,-1,4],[7,3,8]]])\n",
    "print(\"dim->\",arr.ndim,np.sort(arr))"
   ]
  },
  {
   "cell_type": "code",
   "execution_count": 24,
   "id": "cf548703-cc4e-468d-a576-50ebb63182a9",
   "metadata": {},
   "outputs": [
    {
     "name": "stdout",
     "output_type": "stream",
     "text": [
      "before sorting :  [ 1  2  3 -1  0 67  7  8  9]\n",
      "after sorting :  [-1  0  1  2  3  7  8  9 67]\n"
     ]
    }
   ],
   "source": [
    "arr1 = np.array([1,2,3,-1,0,67])\n",
    "arr2 = np.array([7,8,9])\n",
    "con = np.concatenate((arr1,arr2))\n",
    "print(\"before sorting : \", con)\n",
    "print(\"after sorting : \",np.sort(con))"
   ]
  }
 ],
 "metadata": {
  "kernelspec": {
   "display_name": "Python 3 (ipykernel)",
   "language": "python",
   "name": "python3"
  },
  "language_info": {
   "codemirror_mode": {
    "name": "ipython",
    "version": 3
   },
   "file_extension": ".py",
   "mimetype": "text/x-python",
   "name": "python",
   "nbconvert_exporter": "python",
   "pygments_lexer": "ipython3",
   "version": "3.11.8"
  }
 },
 "nbformat": 4,
 "nbformat_minor": 5
}
