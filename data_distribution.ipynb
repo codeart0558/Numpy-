{
 "cells": [
  {
   "cell_type": "code",
   "execution_count": null,
   "id": "8e4df281-dfae-4089-9751-d1c64b795458",
   "metadata": {},
   "outputs": [],
   "source": [
    "# data distribution\n",
    "# Data Distribution is a list of all possible values, and how often each value occurs.\n",
    "# Such lists are important when working with statistics and data science."
   ]
  },
  {
   "cell_type": "code",
   "execution_count": null,
   "id": "446e41ff-9921-4a51-8308-b17b0e6f4476",
   "metadata": {},
   "outputs": [],
   "source": [
    "# Random distribution : probability function\n",
    "# Generate a 1-D array containing 100 values, where each value has to be 3, 5, 7 or 9.\n",
    "# The probability for the value to be 3 is set to be 0.1\n",
    "# The probability for the value to be 5 is set to be 0.3\n",
    "# The probability for the value to be 7 is set to be 0.6\n",
    "# The probability for the value to be 9 is set to be 0\n",
    "# the sum of all probabaility numbers should be one"
   ]
  },
  {
   "cell_type": "code",
   "execution_count": 4,
   "id": "6fda3d21-06ff-4682-970f-d1a7b7cf066d",
   "metadata": {},
   "outputs": [
    {
     "name": "stdout",
     "output_type": "stream",
     "text": [
      "[ 4  4 -1  4 -1 -1 -1 -1 -1  4]\n"
     ]
    }
   ],
   "source": [
    "import numpy as np\n",
    "from numpy import random\n",
    "arra = random.choice([3,4,-1,6],p=[0.1, 0.3, 0.6, 0.0],size=(10))\n",
    "print(arra)\n",
    "# in this example -1 probabaility is higher than other"
   ]
  },
  {
   "cell_type": "code",
   "execution_count": 5,
   "id": "1b74a1ba-f9af-45a0-94a8-5fd57303c891",
   "metadata": {},
   "outputs": [
    {
     "name": "stdout",
     "output_type": "stream",
     "text": [
      "[[-1 -1  4  3 -1]\n",
      " [ 4 -1 -1  4 -1]\n",
      " [-1  4 -1 -1  4]]\n"
     ]
    }
   ],
   "source": [
    "# return 2-D with 3 rows and each containing 5 values:\n",
    "arra = random.choice([3,4,-1,6],p=[0.1, 0.3, 0.6, 0.0],size=(3,5))\n",
    "print(arra)"
   ]
  }
 ],
 "metadata": {
  "kernelspec": {
   "display_name": "Python 3 (ipykernel)",
   "language": "python",
   "name": "python3"
  },
  "language_info": {
   "codemirror_mode": {
    "name": "ipython",
    "version": 3
   },
   "file_extension": ".py",
   "mimetype": "text/x-python",
   "name": "python",
   "nbconvert_exporter": "python",
   "pygments_lexer": "ipython3",
   "version": "3.11.8"
  }
 },
 "nbformat": 4,
 "nbformat_minor": 5
}
