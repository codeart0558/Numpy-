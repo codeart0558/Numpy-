{
 "cells": [
  {
   "cell_type": "code",
   "execution_count": null,
   "id": "5213b0bf-f71a-4626-af69-ace9da7066be",
   "metadata": {},
   "outputs": [],
   "source": [
    "# Array Shape\n",
    "# The shape of an array is the number of elements in each dimension."
   ]
  },
  {
   "cell_type": "code",
   "execution_count": 1,
   "id": "f61c758e-016d-4cd1-9fcf-026526cfb8c5",
   "metadata": {},
   "outputs": [
    {
     "name": "stdout",
     "output_type": "stream",
     "text": [
      "(2, 4)\n"
     ]
    }
   ],
   "source": [
    "import numpy as np\n",
    "\n",
    "arr = np.array([[1, 2, 3, 4], [5, 6, 7, 8]])\n",
    "\n",
    "print(arr.shape)"
   ]
  },
  {
   "cell_type": "code",
   "execution_count": 2,
   "id": "12bdda80-3ff8-4ea3-a2cf-32ef6ac59722",
   "metadata": {},
   "outputs": [
    {
     "name": "stdout",
     "output_type": "stream",
     "text": [
      "[[[[[1 2 3 4]]]]]\n",
      "shape of array : (1, 1, 1, 1, 4)\n"
     ]
    }
   ],
   "source": [
    "\n",
    "arr = np.array([1, 2, 3, 4], ndmin=5)\n",
    "\n",
    "print(arr)\n",
    "print('shape of array :', arr.shape)"
   ]
  },
  {
   "cell_type": "code",
   "execution_count": 6,
   "id": "b066d330-ca57-4820-9869-c1e16509f89b",
   "metadata": {},
   "outputs": [
    {
     "name": "stdout",
     "output_type": "stream",
     "text": [
      "3\n",
      "(2, 2, 4)\n"
     ]
    }
   ],
   "source": [
    "arr = np.array([[[1, 2, 3, 4], [5, 6, 7, 8]],[[0,0,0,0],[0,0,0,0]]])\n",
    "print(arr.ndim)\n",
    "print(arr.shape)"
   ]
  },
  {
   "cell_type": "code",
   "execution_count": null,
   "id": "bef7f649-7e8c-4ebf-abae-ad55bc5e6149",
   "metadata": {},
   "outputs": [],
   "source": [
    "arr = np.array([[[[1, 2, 3, 4], [5, 6, 7, 8]],[[0,0,0,0],[0,0,0,0]]],[[1,1,1,1],[]]])\n",
    "print(arr.ndim)\n",
    "print(arr.shape)"
   ]
  }
 ],
 "metadata": {
  "kernelspec": {
   "display_name": "Python 3 (ipykernel)",
   "language": "python",
   "name": "python3"
  },
  "language_info": {
   "codemirror_mode": {
    "name": "ipython",
    "version": 3
   },
   "file_extension": ".py",
   "mimetype": "text/x-python",
   "name": "python",
   "nbconvert_exporter": "python",
   "pygments_lexer": "ipython3",
   "version": "3.13.4"
  }
 },
 "nbformat": 4,
 "nbformat_minor": 5
}
